{
 "cells": [
  {
   "cell_type": "code",
   "execution_count": 1,
   "id": "e902f66d",
   "metadata": {},
   "outputs": [
    {
     "name": "stdout",
     "output_type": "stream",
     "text": [
      "Num GPUs Available:  1\n"
     ]
    }
   ],
   "source": [
    "import os\n",
    "import pathlib\n",
    "import numpy as np\n",
    "import matplotlib.pyplot as plt\n",
    "from pprint import pprint\n",
    "import time\n",
    "from datetime import datetime\n",
    "\n",
    "import tensorflow as tf\n",
    "from tensorflow.keras import layers\n",
    "from glob import glob\n",
    "import multiprocessing\n",
    "\n",
    "print(\"Num GPUs Available: \", len(tf.config.list_physical_devices('GPU')))"
   ]
  },
  {
   "cell_type": "code",
   "execution_count": 2,
   "id": "dfd5dbe3",
   "metadata": {},
   "outputs": [],
   "source": [
    "os.chdir(os.getcwd()+'/cnn_results')"
   ]
  },
  {
   "cell_type": "code",
   "execution_count": 4,
   "id": "f15b67f0",
   "metadata": {},
   "outputs": [
    {
     "name": "stdout",
     "output_type": "stream",
     "text": [
      "['alexnet.hdf5', 'effnetb0.hdf5', 'resnet50.hdf5', 'sevennet.hdf5', 'vgg16.hdf5']\n"
     ]
    }
   ],
   "source": [
    "filenames = [filename for filename in os.listdir(os.getcwd()) if filename[-1] == '5']\n",
    "print(filenames)"
   ]
  },
  {
   "cell_type": "code",
   "execution_count": 41,
   "id": "a6b6f320",
   "metadata": {},
   "outputs": [],
   "source": [
    "filepath = filenames[4]\n",
    "model = tf.keras.models.load_model(filepath)"
   ]
  },
  {
   "cell_type": "code",
   "execution_count": 42,
   "id": "a334b86b",
   "metadata": {},
   "outputs": [
    {
     "name": "stdout",
     "output_type": "stream",
     "text": [
      "Found 5724 images belonging to 97 classes.\n",
      "Found 821 images belonging to 97 classes.\n"
     ]
    }
   ],
   "source": [
    "img_height = 224\n",
    "img_width = 224\n",
    "batch_size = 32\n",
    "\n",
    "path = \"C:\\\\Users\\\\Szymon\\\\101_split\"\n",
    "train_datagen = tf.keras.preprocessing.image.ImageDataGenerator()\n",
    "valid_datagen = tf.keras.preprocessing.image.ImageDataGenerator()\n",
    "\n",
    "train_batches = train_datagen.flow_from_directory(\n",
    "    path + '\\\\train',\n",
    "    shuffle=True,\n",
    "    target_size=(img_height, img_width),\n",
    "    batch_size=batch_size\n",
    ")\n",
    "\n",
    "valid_batches = valid_datagen.flow_from_directory(\n",
    "    path + '\\\\val',\n",
    "    shuffle=False,\n",
    "    target_size=(img_height, img_width),\n",
    "    batch_size=batch_size\n",
    ")\n",
    "\n",
    "num_classes = len(np.unique(train_batches.classes))"
   ]
  },
  {
   "cell_type": "code",
   "execution_count": 43,
   "id": "081c77b4",
   "metadata": {},
   "outputs": [],
   "source": [
    "predictions = model.predict(valid_batches)\n",
    "predictions = [np.argmax(x) for x in predictions]\n",
    "actuals = valid_batches.labels\n",
    "conf_mat = tf.math.confusion_matrix(actuals, predictions)"
   ]
  },
  {
   "cell_type": "code",
   "execution_count": 44,
   "id": "3f985a51",
   "metadata": {},
   "outputs": [
    {
     "data": {
      "image/png": "[encoded data removed]",
      "text/plain": [
       "<Figure size 864x864 with 1 Axes>"
      ]
     },
     "metadata": {
      "needs_background": "light"
     },
     "output_type": "display_data"
    }
   ],
   "source": [
    "fig, ax = plt.subplots(figsize=(12, 12))\n",
    "ax.matshow(conf_mat.numpy(), cmap = 'Blues')\n",
    "plt.xlabel('Predicted class', fontsize=24)\n",
    "plt.ylabel('Actual class', fontsize=24)\n",
    "plt.xticks(fontsize=20)\n",
    "plt.yticks(fontsize=20)\n",
    "\n",
    "plt.savefig('conf_mat.png')"
   ]
  },
  {
   "cell_type": "code",
   "execution_count": 45,
   "id": "1f60f3ca",
   "metadata": {},
   "outputs": [
    {
     "name": "stderr",
     "output_type": "stream",
     "text": [
      "C:\\Users\\Szymon\\AppData\\Local\\Temp\\ipykernel_10608\\633328498.py:2: RuntimeWarning: invalid value encountered in true_divide\n",
      "  recall = np.diag(conf_mat) / np.sum(conf_mat, axis=0)\n",
      "C:\\Users\\Szymon\\AppData\\Local\\Temp\\ipykernel_10608\\633328498.py:6: RuntimeWarning: invalid value encountered in true_divide\n",
      "  f1score = 2 * (precision * recall) / (precision + recall)\n"
     ]
    }
   ],
   "source": [
    "precision = np.diag(conf_mat) / np.sum(conf_mat, axis=1)\n",
    "recall = np.diag(conf_mat) / np.sum(conf_mat, axis=0)\n",
    "\n",
    "recall = np.where(np.isfinite(recall), recall, 0)\n",
    "\n",
    "f1score = 2 * (precision * recall) / (precision + recall)\n",
    "f1score = np.where(np.isfinite(f1score), f1score, 0)"
   ]
  },
  {
   "cell_type": "code",
   "execution_count": 46,
   "id": "b7a10620",
   "metadata": {},
   "outputs": [
    {
     "name": "stdout",
     "output_type": "stream",
     "text": [
      "[['precision', 0.7159619733073341],\n",
      " ['recall', 0.7967782903829514],\n",
      " ['f1score', 0.7254239762179002]]\n"
     ]
    }
   ],
   "source": [
    "pprint([['precision', np.mean(precision)],['recall', np.mean(recall)],['f1score', np.mean(f1score)]])"
   ]
  },
  {
   "cell_type": "code",
   "execution_count": null,
   "id": "d1ca4356",
   "metadata": {},
   "outputs": [],
   "source": []
  }
 ],
 "metadata": {
  "kernelspec": {
   "display_name": "Python 3 (ipykernel)",
   "language": "python",
   "name": "python3"
  },
  "language_info": {
   "codemirror_mode": {
    "name": "ipython",
    "version": 3
   },
   "file_extension": ".py",
   "mimetype": "text/x-python",
   "name": "python",
   "nbconvert_exporter": "python",
   "pygments_lexer": "ipython3",
   "version": "3.9.7"
  }
 },
 "nbformat": 4,
 "nbformat_minor": 5
}
